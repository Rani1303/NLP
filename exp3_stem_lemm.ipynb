{
 "cells": [
  {
   "cell_type": "code",
   "execution_count": 1,
   "metadata": {},
   "outputs": [],
   "source": [
    "import nltk\n",
    "from nltk.stem import PorterStemmer, WordNetLemmatizer"
   ]
  },
  {
   "cell_type": "code",
   "execution_count": 7,
   "metadata": {},
   "outputs": [],
   "source": [
    "text = \"this is Tajmehal Computer science is a dynamic and ever-evolving field that encompasses the study of algorithms, data structures, programming languages, and the theoretical foundations of computing. It plays a pivotal role in shaping the modern world, driving innovation across various industries. Computer scientists analyze and solve complex problems, develop cutting-edge software, and design efficient algorithms to enhance computational capabilities. From artificial intelligence and machine learning to cybersecurity and software engineering, computer science influences nearly every aspect of our daily lives. As technology continues to advance, the field of computer science remains at the forefront, paving the way for transformative breakthroughs and shaping the digital landscape of the future.\"\n",
    "tokens = nltk.word_tokenize(text)"
   ]
  },
  {
   "cell_type": "code",
   "execution_count": 8,
   "metadata": {},
   "outputs": [],
   "source": [
    "stemmer = PorterStemmer()"
   ]
  },
  {
   "cell_type": "code",
   "execution_count": 9,
   "metadata": {},
   "outputs": [
    {
     "name": "stdout",
     "output_type": "stream",
     "text": [
      "Stemmed tokens: ['thi', 'is', 'tajmeh', 'comput', 'scienc', 'is', 'a', 'dynam', 'and', 'ever-evolv', 'field', 'that', 'encompass', 'the', 'studi', 'of', 'algorithm', ',', 'data', 'structur', ',', 'program', 'languag', ',', 'and', 'the', 'theoret', 'foundat', 'of', 'comput', '.', 'it', 'play', 'a', 'pivot', 'role', 'in', 'shape', 'the', 'modern', 'world', ',', 'drive', 'innov', 'across', 'variou', 'industri', '.', 'comput', 'scientist', 'analyz', 'and', 'solv', 'complex', 'problem', ',', 'develop', 'cutting-edg', 'softwar', ',', 'and', 'design', 'effici', 'algorithm', 'to', 'enhanc', 'comput', 'capabl', '.', 'from', 'artifici', 'intellig', 'and', 'machin', 'learn', 'to', 'cybersecur', 'and', 'softwar', 'engin', ',', 'comput', 'scienc', 'influenc', 'nearli', 'everi', 'aspect', 'of', 'our', 'daili', 'live', '.', 'as', 'technolog', 'continu', 'to', 'advanc', ',', 'the', 'field', 'of', 'comput', 'scienc', 'remain', 'at', 'the', 'forefront', ',', 'pave', 'the', 'way', 'for', 'transform', 'breakthrough', 'and', 'shape', 'the', 'digit', 'landscap', 'of', 'the', 'futur', '.']\n"
     ]
    }
   ],
   "source": [
    "stemmed_tokens = [stemmer.stem(token) for token in tokens]\n",
    "print(\"Stemmed tokens:\", stemmed_tokens)"
   ]
  },
  {
   "cell_type": "code",
   "execution_count": 10,
   "metadata": {},
   "outputs": [],
   "source": [
    "lemmatizer = WordNetLemmatizer()"
   ]
  },
  {
   "cell_type": "code",
   "execution_count": 11,
   "metadata": {},
   "outputs": [
    {
     "name": "stdout",
     "output_type": "stream",
     "text": [
      "Lemmatized tokens: ['this', 'is', 'Tajmehal', 'Computer', 'science', 'is', 'a', 'dynamic', 'and', 'ever-evolving', 'field', 'that', 'encompasses', 'the', 'study', 'of', 'algorithm', ',', 'data', 'structure', ',', 'programming', 'language', ',', 'and', 'the', 'theoretical', 'foundation', 'of', 'computing', '.', 'It', 'play', 'a', 'pivotal', 'role', 'in', 'shaping', 'the', 'modern', 'world', ',', 'driving', 'innovation', 'across', 'various', 'industry', '.', 'Computer', 'scientist', 'analyze', 'and', 'solve', 'complex', 'problem', ',', 'develop', 'cutting-edge', 'software', ',', 'and', 'design', 'efficient', 'algorithm', 'to', 'enhance', 'computational', 'capability', '.', 'From', 'artificial', 'intelligence', 'and', 'machine', 'learning', 'to', 'cybersecurity', 'and', 'software', 'engineering', ',', 'computer', 'science', 'influence', 'nearly', 'every', 'aspect', 'of', 'our', 'daily', 'life', '.', 'As', 'technology', 'continues', 'to', 'advance', ',', 'the', 'field', 'of', 'computer', 'science', 'remains', 'at', 'the', 'forefront', ',', 'paving', 'the', 'way', 'for', 'transformative', 'breakthrough', 'and', 'shaping', 'the', 'digital', 'landscape', 'of', 'the', 'future', '.']\n"
     ]
    }
   ],
   "source": [
    "lemmatized_tokens = [lemmatizer.lemmatize(token) for token in tokens]\n",
    "print(\"Lemmatized tokens:\", lemmatized_tokens)"
   ]
  },
  {
   "cell_type": "code",
   "execution_count": null,
   "metadata": {},
   "outputs": [],
   "source": []
  }
 ],
 "metadata": {
  "kernelspec": {
   "display_name": "nlp",
   "language": "python",
   "name": "python3"
  },
  "language_info": {
   "codemirror_mode": {
    "name": "ipython",
    "version": 3
   },
   "file_extension": ".py",
   "mimetype": "text/x-python",
   "name": "python",
   "nbconvert_exporter": "python",
   "pygments_lexer": "ipython3",
   "version": "3.11.5"
  }
 },
 "nbformat": 4,
 "nbformat_minor": 2
}
