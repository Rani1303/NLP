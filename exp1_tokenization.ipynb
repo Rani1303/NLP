{
 "cells": [
  {
   "cell_type": "code",
   "execution_count": 6,
   "metadata": {},
   "outputs": [
    {
     "name": "stdout",
     "output_type": "stream",
     "text": [
      "Defaulting to user installation because normal site-packages is not writeableNote: you may need to restart the kernel to use updated packages.\n",
      "\n",
      "Collecting nltk\n",
      "  Downloading nltk-3.8.1-py3-none-any.whl (1.5 MB)\n",
      "Requirement already satisfied: joblib in c:\\users\\dines\\appdata\\roaming\\python\\python39\\site-packages (from nltk) (1.3.2)\n",
      "Requirement already satisfied: click in c:\\users\\dines\\appdata\\roaming\\python\\python39\\site-packages (from nltk) (8.1.7)\n",
      "Requirement already satisfied: tqdm in c:\\users\\dines\\appdata\\roaming\\python\\python39\\site-packages (from nltk) (4.66.1)\n",
      "Requirement already satisfied: regex>=2021.8.3 in c:\\users\\dines\\appdata\\roaming\\python\\python39\\site-packages (from nltk) (2023.12.25)\n",
      "Requirement already satisfied: colorama in d:\\anaconda\\lib\\site-packages (from click->nltk) (0.4.4)\n",
      "Installing collected packages: nltk\n",
      "Successfully installed nltk-3.8.1\n"
     ]
    }
   ],
   "source": [
    "pip install nltk"
   ]
  },
  {
   "cell_type": "code",
   "execution_count": 7,
   "metadata": {},
   "outputs": [
    {
     "name": "stderr",
     "output_type": "stream",
     "text": [
      "[nltk_data] Downloading package gutenberg to\n",
      "[nltk_data]     C:\\Users\\Dines\\AppData\\Roaming\\nltk_data...\n",
      "[nltk_data]   Unzipping corpora\\gutenberg.zip.\n"
     ]
    },
    {
     "data": {
      "text/plain": [
       "True"
      ]
     },
     "execution_count": 7,
     "metadata": {},
     "output_type": "execute_result"
    }
   ],
   "source": [
    "import os \n",
    "import nltk\n",
    "import nltk.corpus\n",
    "nltk.download('gutenberg')"
   ]
  },
  {
   "cell_type": "code",
   "execution_count": 9,
   "metadata": {},
   "outputs": [
    {
     "data": {
      "text/plain": [
       "['[', 'The', 'Tragedie', 'of', 'Hamlet', 'by', ...]"
      ]
     },
     "execution_count": 9,
     "metadata": {},
     "output_type": "execute_result"
    }
   ],
   "source": [
    "hamlet=nltk.corpus.gutenberg.words ('shakespeare-hamlet.txt')\n",
    "hamlet"
   ]
  },
  {
   "cell_type": "code",
   "execution_count": 10,
   "metadata": {},
   "outputs": [
    {
     "name": "stdout",
     "output_type": "stream",
     "text": [
      "[ The Tragedie of Hamlet by William Shakespeare 1599 ] Actus Primus . Scoena Prima . Enter Barnardo and Francisco two Centinels . Barnardo . Who ' s there ? Fran . Nay answer me : Stand & vnfold your selfe Bar . Long liue the King Fran . Barnardo ? Bar . He Fran . You come most carefully vpon your houre Bar . ' Tis now strook twelue , get thee to bed Francisco Fran . For this releefe much thankes : ' Tis bitter cold , And I am sicke at heart Barn . Haue you had quiet Guard ? Fran . Not a Mouse stirring Barn . Well , goodnight . If you do meet Horatio and Marcellus , the Riuals of my Watch , bid them make hast . Enter Horatio and Marcellus . Fran . I thinke I heare them . Stand : who ' s there ? Hor . Friends to this ground Mar . And Leige - men to the Dane Fran . Giue you good night Mar . O farwel honest Soldier , who hath relieu ' d you ? Fra . Barnardo ha ' s my place : giue you goodnight . Exit Fran . Mar . Holla Barnardo Bar . Say , what is Horatio there ? Hor . A peece of him Bar . Welcome Horatio , welcome good Marcellus Mar . What , ha ' s this thing appear ' d againe to night Bar . I haue seene nothing Mar . Horatio saies , ' tis but our Fantasie , And will not let beleefe take hold of him Touching this dreaded sight , twice seene of vs , Therefore I haue intreated him along With vs , to watch the minutes of this Night , That if againe this Apparition come , He may approue our eyes , and speake to it Hor . Tush , tush , ' twill not appeare Bar . Sit downe a - while , And let vs once againe assaile your eares , That are so fortified against our Story , What we two Nights haue seene Hor . Well , sit we downe , And let vs heare Barnardo speake of this Barn . Last night of all , When yond same Starre that ' s Westward from the Pole Had made his course t ' illume that part of Heauen Where now it burnes , Marcellus and my selfe , The Bell then beating one Mar . Peace , breake thee of : Enter the Ghost . Looke where it comes againe Barn . In the same figure , like the King that ' s dead Mar . Thou art a Scholler ; speake to it Horatio Barn . Lookes it not like the King ? Marke it Horatio Hora . Most like : It harrowes me with fear & wonder Barn . It would be spoke too Mar . Question it Horatio Hor . What art "
     ]
    }
   ],
   "source": [
    "for word in hamlet[:500]:\n",
    "    print(word,sep=\" \", end=\" \")"
   ]
  },
  {
   "cell_type": "code",
   "execution_count": 11,
   "metadata": {},
   "outputs": [
    {
     "data": {
      "text/plain": [
       "str"
      ]
     },
     "execution_count": 11,
     "metadata": {},
     "output_type": "execute_result"
    }
   ],
   "source": [
    "str = \"\"\"Computer science is a dynamic and ever-evolving field that encompasses the study of algorithms, data structures, programming languages, and the theoretical foundations of computing. It plays a pivotal role in shaping the modern world, driving innovation across various industries. Computer scientists analyze and solve complex problems, develop cutting-edge software, and design efficient algorithms to enhance computational capabilities. From artificial intelligence and machine learning to cybersecurity and software engineering, computer science influences nearly every aspect of our daily lives. As technology continues to advance, the field of computer science remains at the forefront, paving the way for transformative breakthroughs and shaping the digital landscape of the future.\"\"\"\n",
    "type(str)"
   ]
  },
  {
   "cell_type": "code",
   "execution_count": 12,
   "metadata": {},
   "outputs": [],
   "source": [
    "from nltk.tokenize import word_tokenize"
   ]
  },
  {
   "cell_type": "code",
   "execution_count": 13,
   "metadata": {},
   "outputs": [
    {
     "name": "stderr",
     "output_type": "stream",
     "text": [
      "[nltk_data] Downloading package punkt to\n",
      "[nltk_data]     C:\\Users\\Dines\\AppData\\Roaming\\nltk_data...\n",
      "[nltk_data]   Unzipping tokenizers\\punkt.zip.\n"
     ]
    },
    {
     "data": {
      "text/plain": [
       "['Computer',\n",
       " 'science',\n",
       " 'is',\n",
       " 'a',\n",
       " 'dynamic',\n",
       " 'and',\n",
       " 'ever-evolving',\n",
       " 'field',\n",
       " 'that',\n",
       " 'encompasses',\n",
       " 'the',\n",
       " 'study',\n",
       " 'of',\n",
       " 'algorithms',\n",
       " ',',\n",
       " 'data',\n",
       " 'structures',\n",
       " ',',\n",
       " 'programming',\n",
       " 'languages',\n",
       " ',',\n",
       " 'and',\n",
       " 'the',\n",
       " 'theoretical',\n",
       " 'foundations',\n",
       " 'of',\n",
       " 'computing',\n",
       " '.',\n",
       " 'It',\n",
       " 'plays',\n",
       " 'a',\n",
       " 'pivotal',\n",
       " 'role',\n",
       " 'in',\n",
       " 'shaping',\n",
       " 'the',\n",
       " 'modern',\n",
       " 'world',\n",
       " ',',\n",
       " 'driving',\n",
       " 'innovation',\n",
       " 'across',\n",
       " 'various',\n",
       " 'industries',\n",
       " '.',\n",
       " 'Computer',\n",
       " 'scientists',\n",
       " 'analyze',\n",
       " 'and',\n",
       " 'solve',\n",
       " 'complex',\n",
       " 'problems',\n",
       " ',',\n",
       " 'develop',\n",
       " 'cutting-edge',\n",
       " 'software',\n",
       " ',',\n",
       " 'and',\n",
       " 'design',\n",
       " 'efficient',\n",
       " 'algorithms',\n",
       " 'to',\n",
       " 'enhance',\n",
       " 'computational',\n",
       " 'capabilities',\n",
       " '.',\n",
       " 'From',\n",
       " 'artificial',\n",
       " 'intelligence',\n",
       " 'and',\n",
       " 'machine',\n",
       " 'learning',\n",
       " 'to',\n",
       " 'cybersecurity',\n",
       " 'and',\n",
       " 'software',\n",
       " 'engineering',\n",
       " ',',\n",
       " 'computer',\n",
       " 'science',\n",
       " 'influences',\n",
       " 'nearly',\n",
       " 'every',\n",
       " 'aspect',\n",
       " 'of',\n",
       " 'our',\n",
       " 'daily',\n",
       " 'lives',\n",
       " '.',\n",
       " 'As',\n",
       " 'technology',\n",
       " 'continues',\n",
       " 'to',\n",
       " 'advance',\n",
       " ',',\n",
       " 'the',\n",
       " 'field',\n",
       " 'of',\n",
       " 'computer',\n",
       " 'science',\n",
       " 'remains',\n",
       " 'at',\n",
       " 'the',\n",
       " 'forefront',\n",
       " ',',\n",
       " 'paving',\n",
       " 'the',\n",
       " 'way',\n",
       " 'for',\n",
       " 'transformative',\n",
       " 'breakthroughs',\n",
       " 'and',\n",
       " 'shaping',\n",
       " 'the',\n",
       " 'digital',\n",
       " 'landscape',\n",
       " 'of',\n",
       " 'the',\n",
       " 'future',\n",
       " '.']"
      ]
     },
     "execution_count": 13,
     "metadata": {},
     "output_type": "execute_result"
    }
   ],
   "source": [
    "nltk.download('punkt')\n",
    "str_token = word_tokenize(str)\n",
    "str_token"
   ]
  }
 ],
 "metadata": {
  "kernelspec": {
   "display_name": "Python 3",
   "language": "python",
   "name": "python3"
  },
  "language_info": {
   "codemirror_mode": {
    "name": "ipython",
    "version": 3
   },
   "file_extension": ".py",
   "mimetype": "text/x-python",
   "name": "python",
   "nbconvert_exporter": "python",
   "pygments_lexer": "ipython3",
   "version": "3.9.12"
  }
 },
 "nbformat": 4,
 "nbformat_minor": 2
}
