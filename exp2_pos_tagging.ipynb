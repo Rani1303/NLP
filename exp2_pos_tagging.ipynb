{
 "cells": [
  {
   "cell_type": "code",
   "execution_count": 29,
   "metadata": {},
   "outputs": [
    {
     "name": "stderr",
     "output_type": "stream",
     "text": [
      "[nltk_data] Downloading package averaged_perceptron_tagger to\n",
      "[nltk_data]     /Users/shreyaspandey/nltk_data...\n",
      "[nltk_data]   Unzipping taggers/averaged_perceptron_tagger.zip.\n"
     ]
    },
    {
     "data": {
      "text/plain": [
       "True"
      ]
     },
     "execution_count": 29,
     "metadata": {},
     "output_type": "execute_result"
    }
   ],
   "source": [
    "import nltk\n",
    "from nltk.tokenize import word_tokenize\n",
    "from nltk.tag import PerceptronTagger\n",
    "\n",
    "nltk.download('averaged_perceptron_tagger')\n",
    "\n"
   ]
  },
  {
   "cell_type": "code",
   "execution_count": 47,
   "metadata": {},
   "outputs": [],
   "source": [
    "text = \"this is Tajmehal Computer science is a dynamic and ever-evolving field that encompasses the study of algorithms, data structures, programming languages, and the theoretical foundations of computing. It plays a pivotal role in shaping the modern world, driving innovation across various industries. Computer scientists analyze and solve complex problems, develop cutting-edge software, and design efficient algorithms to enhance computational capabilities. From artificial intelligence and machine learning to cybersecurity and software engineering, computer science influences nearly every aspect of our daily lives. As technology continues to advance, the field of computer science remains at the forefront, paving the way for transformative breakthroughs and shaping the digital landscape of the future.\""
   ]
  },
  {
   "cell_type": "code",
   "execution_count": 48,
   "metadata": {},
   "outputs": [],
   "source": [
    "# Tokenize the text into words\n",
    "tokens = word_tokenize(text)\n",
    "tagger = PerceptronTagger()\n"
   ]
  },
  {
   "cell_type": "code",
   "execution_count": 49,
   "metadata": {},
   "outputs": [
    {
     "name": "stdout",
     "output_type": "stream",
     "text": [
      "[('this', 'DT'), ('is', 'VBZ'), ('Tajmehal', 'NNP'), ('Computer', 'NNP'), ('science', 'NN'), ('is', 'VBZ'), ('a', 'DT'), ('dynamic', 'JJ'), ('and', 'CC'), ('ever-evolving', 'JJ'), ('field', 'NN'), ('that', 'WDT'), ('encompasses', 'VBZ'), ('the', 'DT'), ('study', 'NN'), ('of', 'IN'), ('algorithms', 'NN'), (',', ','), ('data', 'NN'), ('structures', 'NNS'), (',', ','), ('programming', 'VBG'), ('languages', 'NNS'), (',', ','), ('and', 'CC'), ('the', 'DT'), ('theoretical', 'JJ'), ('foundations', 'NNS'), ('of', 'IN'), ('computing', 'VBG'), ('.', '.'), ('It', 'PRP'), ('plays', 'VBZ'), ('a', 'DT'), ('pivotal', 'JJ'), ('role', 'NN'), ('in', 'IN'), ('shaping', 'VBG'), ('the', 'DT'), ('modern', 'JJ'), ('world', 'NN'), (',', ','), ('driving', 'VBG'), ('innovation', 'NN'), ('across', 'IN'), ('various', 'JJ'), ('industries', 'NNS'), ('.', '.'), ('Computer', 'NNP'), ('scientists', 'NNS'), ('analyze', 'VBP'), ('and', 'CC'), ('solve', 'VBP'), ('complex', 'JJ'), ('problems', 'NNS'), (',', ','), ('develop', 'VB'), ('cutting-edge', 'NN'), ('software', 'NN'), (',', ','), ('and', 'CC'), ('design', 'NN'), ('efficient', 'JJ'), ('algorithms', 'NN'), ('to', 'TO'), ('enhance', 'VB'), ('computational', 'JJ'), ('capabilities', 'NNS'), ('.', '.'), ('From', 'IN'), ('artificial', 'JJ'), ('intelligence', 'NN'), ('and', 'CC'), ('machine', 'NN'), ('learning', 'NN'), ('to', 'TO'), ('cybersecurity', 'NN'), ('and', 'CC'), ('software', 'NN'), ('engineering', 'NN'), (',', ','), ('computer', 'NN'), ('science', 'NN'), ('influences', 'NNS'), ('nearly', 'RB'), ('every', 'DT'), ('aspect', 'NN'), ('of', 'IN'), ('our', 'PRP$'), ('daily', 'JJ'), ('lives', 'NNS'), ('.', '.'), ('As', 'IN'), ('technology', 'NN'), ('continues', 'VBZ'), ('to', 'TO'), ('advance', 'VB'), (',', ','), ('the', 'DT'), ('field', 'NN'), ('of', 'IN'), ('computer', 'NN'), ('science', 'NN'), ('remains', 'VBZ'), ('at', 'IN'), ('the', 'DT'), ('forefront', 'NN'), (',', ','), ('paving', 'VBG'), ('the', 'DT'), ('way', 'NN'), ('for', 'IN'), ('transformative', 'JJ'), ('breakthroughs', 'NNS'), ('and', 'CC'), ('shaping', 'VBG'), ('the', 'DT'), ('digital', 'JJ'), ('landscape', 'NN'), ('of', 'IN'), ('the', 'DT'), ('future', 'NN'), ('.', '.')]\n"
     ]
    }
   ],
   "source": [
    "pos_tags = tagger.tag(tokens)\n",
    "print (pos_tags)"
   ]
  }
 ],
 "metadata": {
  "kernelspec": {
   "display_name": "nlp",
   "language": "python",
   "name": "python3"
  },
  "language_info": {
   "codemirror_mode": {
    "name": "ipython",
    "version": 3
   },
   "file_extension": ".py",
   "mimetype": "text/x-python",
   "name": "python",
   "nbconvert_exporter": "python",
   "pygments_lexer": "ipython3",
   "version": "3.11.7"
  }
 },
 "nbformat": 4,
 "nbformat_minor": 2
}
