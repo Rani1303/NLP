{
 "cells": [
  {
   "cell_type": "code",
   "execution_count": 2,
   "metadata": {},
   "outputs": [
    {
     "name": "stderr",
     "output_type": "stream",
     "text": [
      "[nltk_data] Downloading package averaged_perceptron_tagger to\n",
      "[nltk_data]     C:\\Users\\Dines\\AppData\\Roaming\\nltk_data...\n",
      "[nltk_data]   Package averaged_perceptron_tagger is already up-to-\n",
      "[nltk_data]       date!\n"
     ]
    },
    {
     "data": {
      "text/plain": [
       "True"
      ]
     },
     "execution_count": 2,
     "metadata": {},
     "output_type": "execute_result"
    }
   ],
   "source": [
    "import nltk\n",
    "from nltk.tokenize import word_tokenize\n",
    "from nltk.tag import PerceptronTagger\n",
    "\n",
    "nltk.download('averaged_perceptron_tagger')\n",
    "\n"
   ]
  },
  {
   "cell_type": "code",
   "execution_count": 3,
   "metadata": {},
   "outputs": [],
   "source": [
    "text = \"Looking up at the stars, I know quite well. That, for all they care, I can go to hell, But on earth indifference is the least. We have to dread from man or beast.\""
   ]
  },
  {
   "cell_type": "code",
   "execution_count": 4,
   "metadata": {},
   "outputs": [],
   "source": [
    "# Tokenize the text into words\n",
    "tokens = word_tokenize(text)\n",
    "tagger = PerceptronTagger()\n"
   ]
  },
  {
   "cell_type": "code",
   "execution_count": 5,
   "metadata": {},
   "outputs": [
    {
     "name": "stdout",
     "output_type": "stream",
     "text": [
      "[('Looking', 'VBG'), ('up', 'RP'), ('at', 'IN'), ('the', 'DT'), ('stars', 'NNS'), (',', ','), ('I', 'PRP'), ('know', 'VBP'), ('quite', 'RB'), ('well', 'RB'), ('.', '.'), ('That', 'DT'), (',', ','), ('for', 'IN'), ('all', 'DT'), ('they', 'PRP'), ('care', 'VBP'), (',', ','), ('I', 'PRP'), ('can', 'MD'), ('go', 'VB'), ('to', 'TO'), ('hell', 'VB'), (',', ','), ('But', 'CC'), ('on', 'IN'), ('earth', 'JJ'), ('indifference', 'NN'), ('is', 'VBZ'), ('the', 'DT'), ('least', 'JJS'), ('.', '.'), ('We', 'PRP'), ('have', 'VBP'), ('to', 'TO'), ('dread', 'VB'), ('from', 'IN'), ('man', 'NN'), ('or', 'CC'), ('beast', 'NN'), ('.', '.')]\n"
     ]
    }
   ],
   "source": [
    "pos_tags = tagger.tag(tokens)\n",
    "print (pos_tags)"
   ]
  }
 ],
 "metadata": {
  "kernelspec": {
   "display_name": "nlp",
   "language": "python",
   "name": "python3"
  },
  "language_info": {
   "codemirror_mode": {
    "name": "ipython",
    "version": 3
   },
   "file_extension": ".py",
   "mimetype": "text/x-python",
   "name": "python",
   "nbconvert_exporter": "python",
   "pygments_lexer": "ipython3",
   "version": "3.9.12"
  }
 },
 "nbformat": 4,
 "nbformat_minor": 2
}
