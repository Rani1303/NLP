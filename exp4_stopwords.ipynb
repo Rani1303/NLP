{
 "cells": [
  {
   "cell_type": "code",
   "execution_count": 17,
   "metadata": {},
   "outputs": [
    {
     "name": "stderr",
     "output_type": "stream",
     "text": [
      "[nltk_data] Downloading package wordnet to\n",
      "[nltk_data]     C:\\Users\\Dines\\AppData\\Roaming\\nltk_data...\n"
     ]
    }
   ],
   "source": [
    "import nltk\n",
    "nltk.download('wordnet')\n",
    "from nltk.corpus import stopwords\n",
    "from nltk.stem import PorterStemmer, WordNetLemmatizer"
   ]
  },
  {
   "cell_type": "code",
   "execution_count": 18,
   "metadata": {},
   "outputs": [
    {
     "name": "stderr",
     "output_type": "stream",
     "text": [
      "[nltk_data] Downloading package stopwords to\n",
      "[nltk_data]     C:\\Users\\Dines\\AppData\\Roaming\\nltk_data...\n",
      "[nltk_data]   Package stopwords is already up-to-date!\n"
     ]
    }
   ],
   "source": [
    "nltk.download('stopwords')\n",
    "\n",
    "text = \"this is Tajmehal Computer science is a dynamic and ever-evolving field that encompasses the study of algorithms, data structures, programming languages, and the theoretical foundations of computing. It plays a pivotal role in shaping the modern world, driving innovation across various industries. Computer scientists analyze and solve complex problems, develop cutting-edge software, and design efficient algorithms to enhance computational capabilities. From artificial intelligence and machine learning to cybersecurity and software engineering, computer science influences nearly every aspect of our daily lives. As technology continues to advance, the field of computer science remains at the forefront, paving the way for transformative breakthroughs and shaping the digital landscape of the future.\""
   ]
  },
  {
   "cell_type": "code",
   "execution_count": 19,
   "metadata": {},
   "outputs": [],
   "source": [
    "stop_words = set(stopwords.words('english'))"
   ]
  },
  {
   "cell_type": "code",
   "execution_count": 20,
   "metadata": {},
   "outputs": [],
   "source": [
    "tokens = nltk.word_tokenize(text)"
   ]
  },
  {
   "cell_type": "code",
   "execution_count": 21,
   "metadata": {},
   "outputs": [],
   "source": [
    "filtered_tokens_stemmed = [stemmer.stem(token) for token in tokens if token not in stop_words]\n",
    "filtered_tokens_lemmatized = [lemmatizer.lemmatize(token) for token in tokens if token not in stop_words]"
   ]
  },
  {
   "cell_type": "code",
   "execution_count": 22,
   "metadata": {},
   "outputs": [
    {
     "name": "stdout",
     "output_type": "stream",
     "text": [
      "Stemmed tokens without stop words: ['tajmeh', 'comput', 'scienc', 'dynam', 'ever-evolv', 'field', 'encompass', 'studi', 'algorithm', ',', 'data', 'structur', ',', 'program', 'languag', ',', 'theoret', 'foundat', 'comput', '.', 'it', 'play', 'pivot', 'role', 'shape', 'modern', 'world', ',', 'drive', 'innov', 'across', 'variou', 'industri', '.', 'comput', 'scientist', 'analyz', 'solv', 'complex', 'problem', ',', 'develop', 'cutting-edg', 'softwar', ',', 'design', 'effici', 'algorithm', 'enhanc', 'comput', 'capabl', '.', 'from', 'artifici', 'intellig', 'machin', 'learn', 'cybersecur', 'softwar', 'engin', ',', 'comput', 'scienc', 'influenc', 'nearli', 'everi', 'aspect', 'daili', 'live', '.', 'as', 'technolog', 'continu', 'advanc', ',', 'field', 'comput', 'scienc', 'remain', 'forefront', ',', 'pave', 'way', 'transform', 'breakthrough', 'shape', 'digit', 'landscap', 'futur', '.']\n",
      "Lemmatized tokens without stop words: ['Tajmehal', 'Computer', 'science', 'dynamic', 'ever-evolving', 'field', 'encompasses', 'study', 'algorithm', ',', 'data', 'structure', ',', 'programming', 'language', ',', 'theoretical', 'foundation', 'computing', '.', 'It', 'play', 'pivotal', 'role', 'shaping', 'modern', 'world', ',', 'driving', 'innovation', 'across', 'various', 'industry', '.', 'Computer', 'scientist', 'analyze', 'solve', 'complex', 'problem', ',', 'develop', 'cutting-edge', 'software', ',', 'design', 'efficient', 'algorithm', 'enhance', 'computational', 'capability', '.', 'From', 'artificial', 'intelligence', 'machine', 'learning', 'cybersecurity', 'software', 'engineering', ',', 'computer', 'science', 'influence', 'nearly', 'every', 'aspect', 'daily', 'life', '.', 'As', 'technology', 'continues', 'advance', ',', 'field', 'computer', 'science', 'remains', 'forefront', ',', 'paving', 'way', 'transformative', 'breakthrough', 'shaping', 'digital', 'landscape', 'future', '.']\n"
     ]
    }
   ],
   "source": [
    "print(\"Stemmed tokens without stop words:\", filtered_tokens_stemmed)\n",
    "print(\"Lemmatized tokens without stop words:\", filtered_tokens_lemmatized)"
   ]
  }
 ],
 "metadata": {
  "kernelspec": {
   "display_name": "Python 3",
   "language": "python",
   "name": "python3"
  },
  "language_info": {
   "codemirror_mode": {
    "name": "ipython",
    "version": 3
   },
   "file_extension": ".py",
   "mimetype": "text/x-python",
   "name": "python",
   "nbconvert_exporter": "python",
   "pygments_lexer": "ipython3",
   "version": "3.9.12"
  }
 },
 "nbformat": 4,
 "nbformat_minor": 2
}
